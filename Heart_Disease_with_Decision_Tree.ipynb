{
  "nbformat": 4,
  "nbformat_minor": 0,
  "metadata": {
    "colab": {
      "provenance": []
    },
    "kernelspec": {
      "name": "python3",
      "display_name": "Python 3"
    },
    "language_info": {
      "name": "python"
    }
  },
  "cells": [
    {
      "cell_type": "code",
      "execution_count": 1,
      "metadata": {
        "colab": {
          "base_uri": "https://localhost:8080/"
        },
        "id": "vSnTZNKTaD6b",
        "outputId": "09e0bba2-2f2c-472c-905f-f96aa8de5249"
      },
      "outputs": [
        {
          "output_type": "stream",
          "name": "stdout",
          "text": [
            "Predicted Class: Yes Heart Disease\n"
          ]
        }
      ],
      "source": [
        "import pandas as pd\n",
        "from sklearn.preprocessing import StandardScaler\n",
        "from sklearn.linear_model import LogisticRegression\n",
        "from sklearn.decomposition import PCA\n",
        "from sklearn.model_selection import train_test_split\n",
        "from sklearn.tree import DecisionTreeClassifier\n",
        "\n",
        "# Load the Heart Disease dataset\n",
        "dataset = 'https://storage.googleapis.com/dqlab-dataset/heart_disease.csv'\n",
        "heart_data = pd.read_csv('https://storage.googleapis.com/dqlab-dataset/heart_disease.csv')\n",
        "\n",
        "# Handle missing values\n",
        "heart_data = heart_data.dropna()\n",
        "\n",
        "# After reduction\n",
        "pca = PCA(n_components=9)\n",
        "heart_data_reduced = pca.fit_transform(heart_data.drop('target', axis=1))\n",
        "\n",
        "# Standardize the features\n",
        "scaler = StandardScaler()\n",
        "heart_data_scaled = scaler.fit_transform(heart_data_reduced)\n",
        "\n",
        "# Load the Heart Disease dataset\n",
        "X = heart_data_scaled\n",
        "y = heart_data['target']\n",
        "\n",
        "# Split the data into training and testing sets\n",
        "X_train, X_test, y_train, y_test = train_test_split(X, y, test_size=0.2, random_state=42)\n",
        "\n",
        "# Build the Decisition Trree model with criterion='gini' and max_depth = 30\n",
        "model = DecisionTreeClassifier(criterion='gini', max_depth=30)\n",
        "model.fit(X_train, y_train)\n",
        "\n",
        "# Function to predict the heart disease\n",
        "def predict_heart_disease(features):\n",
        "    features_scaled = scaler.transform(features)\n",
        "    prediction = model.predict(features_scaled)\n",
        "    if prediction == 0:\n",
        "      pred = \"No Heart Disease\"\n",
        "      return pred\n",
        "    else:\n",
        "      pred = \"Yes Heart Disease\"\n",
        "      return pred\n",
        "\n",
        "ca = 3.0\n",
        "thal = 2.0\n",
        "trestbps = 80.0\n",
        "oldpeak = 3.0\n",
        "slope = 1.0\n",
        "restecg = 1.0\n",
        "exang = 1.0\n",
        "chol = 80.0\n",
        "fbs = 1.0\n",
        "\n",
        "# Prepare input features\n",
        "input_features = [[ca, thal, trestbps, oldpeak, slope, restecg, exang, chol, fbs]]\n",
        "\n",
        "# Make prediction\n",
        "print(\"Predicted Class:\", predict_heart_disease(input_features))"
      ]
    }
  ]
}